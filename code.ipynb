{
  "nbformat": 4,
  "nbformat_minor": 0,
  "metadata": {
    "colab": {
      "name": "Untitled2.ipynb",
      "provenance": [],
      "authorship_tag": "ABX9TyOmpN0Lct0GTEfBxxYrQl9Q",
      "include_colab_link": true
    },
    "kernelspec": {
      "name": "python3",
      "display_name": "Python 3"
    },
    "language_info": {
      "name": "python"
    }
  },
  "cells": [
    {
      "cell_type": "markdown",
      "metadata": {
        "id": "view-in-github",
        "colab_type": "text"
      },
      "source": [
        "<a href=\"https://colab.research.google.com/github/Azeez2711/pluralsight-js-dev-env/blob/master/code.ipynb\" target=\"_parent\"><img src=\"https://colab.research.google.com/assets/colab-badge.svg\" alt=\"Open In Colab\"/></a>"
      ]
    },
    {
      "cell_type": "code",
      "metadata": {
        "colab": {
          "base_uri": "https://localhost:8080/"
        },
        "id": "BXWWfb27bIC7",
        "outputId": "9bbc4d5c-0a0c-4c96-df0e-87e681b0f7a4"
      },
      "source": [
        "import pandas as pd\n",
        "\n",
        "url='https://raw.githubusercontent.com/WalePhenomenon/climate_change/master/fuel_ferc1.csv'\n",
        "fuel_data = pd.read_csv(url, error_bad_lines=False)\n",
        "fuel_data.describe(include='all')\n",
        "\n",
        "fuel_data.groupby('fuel_type_code_pudl').first()\n",
        "fuel_data.isnull().sum()\n",
        "fuel_data.groupby('report_year')['report_year'].count()\n"
      ],
      "execution_count": 20,
      "outputs": [
        {
          "output_type": "execute_result",
          "data": {
            "text/plain": [
              "report_year\n",
              "1994    1235\n",
              "1995    1201\n",
              "1996    1088\n",
              "1997    1094\n",
              "1998    1107\n",
              "1999    1050\n",
              "2000    1373\n",
              "2001    1356\n",
              "2002    1205\n",
              "2003    1211\n",
              "2004    1192\n",
              "2005    1269\n",
              "2006    1243\n",
              "2007    1264\n",
              "2008    1228\n",
              "2009    1222\n",
              "2010    1261\n",
              "2011    1240\n",
              "2012    1243\n",
              "2013    1199\n",
              "2014    1171\n",
              "2015    1093\n",
              "2016    1034\n",
              "2017     993\n",
              "2018     951\n",
              "Name: report_year, dtype: int64"
            ]
          },
          "metadata": {},
          "execution_count": 20
        }
      ]
    }
  ]
}